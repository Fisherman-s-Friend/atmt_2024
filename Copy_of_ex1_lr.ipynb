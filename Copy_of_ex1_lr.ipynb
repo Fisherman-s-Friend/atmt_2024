{
  "cells": [
    {
      "cell_type": "markdown",
      "metadata": {
        "id": "view-in-github",
        "colab_type": "text"
      },
      "source": [
        "<a href=\"https://colab.research.google.com/github/Fisherman-s-Friend/atmt_2024/blob/main/Copy_of_ex1_lr.ipynb\" target=\"_parent\"><img src=\"https://colab.research.google.com/assets/colab-badge.svg\" alt=\"Open In Colab\"/></a>"
      ]
    },
    {
      "cell_type": "markdown",
      "metadata": {
        "id": "SwwQqWtxaMWs"
      },
      "source": [
        "# ML4NLP1\n",
        "\n",
        "## Starting Point for Exercise 1, part I\n",
        "\n",
        "This notebook is supposed to serve as a starting point and/or inspiration when starting exercise 1, part I.\n",
        "\n",
        "One of the goals of this exercise is to get you acquainted with sklearn and related libraries like pandas and numpy. You will probably need to consult the documentation of those libraries:\n",
        "- sklearn: [Documentation](https://scikit-learn.org/stable/user_guide.html)\n",
        "- Pandas: [Documentation](https://pandas.pydata.org/docs/#)\n",
        "- NumPy: [Documentation](https://numpy.org/doc/)\n",
        "- SHAP: [Documentation](https://shap.readthedocs.io/en/latest/index.html)\n",
        "\n",
        "## Task Description\n",
        "\n",
        "Follow the instructions in this notebook to:\n",
        "\n",
        "1. Explore the data and create training/test splits for your experiments\n",
        "\n",
        "2. Build a LogisticRegression classifier and design some relevant features to apply it to your data\n",
        "\n",
        "3. Conduct hyperparameter tuning to find the optimal hyperparameters for your model\n",
        "\n",
        "4. Explore your model's predictions and conduct an error analysis to see where the model fails\n",
        "\n",
        "5. Conduct an interpretability analysis, investigating the model's most important features.\n",
        "\n",
        "6. Conduct an ablation study using a subset of languages\n",
        "\n",
        "\n",
        "Throughout the notebook, there are questions that you should address in your report. These are marked with 🗒❓.\n",
        "\n",
        "☝ Note, these questions are intended to provide you with an opportunity to reflect on what it is that you are doing and the kind of challenges you might face along the way.\n",
        "\n",
        "\n"
      ]
    },
    {
      "cell_type": "code",
      "execution_count": 1,
      "metadata": {
        "id": "kBqq-G2daMW7"
      },
      "outputs": [],
      "source": [
        "import pandas as pd\n",
        "import numpy as np\n",
        "\n",
        "# Set seed for reproducibility\n",
        "np.random.seed(42)"
      ]
    },
    {
      "cell_type": "markdown",
      "source": [
        "### Loading the datasets"
      ],
      "metadata": {
        "id": "fPqyEvoyURzd"
      }
    },
    {
      "cell_type": "code",
      "execution_count": 2,
      "metadata": {
        "colab": {
          "base_uri": "https://localhost:8080/"
        },
        "id": "hEqfrri6aMW8",
        "outputId": "8898e255-ed38-4264-d108-f0d35eab1191"
      },
      "outputs": [
        {
          "output_type": "stream",
          "name": "stdout",
          "text": [
            "Downloading...\n",
            "From: https://drive.google.com/uc?id=1QP6YuwdKFNUPpvhOaAcvv2Pcp4JMbIRs\n",
            "To: /content/x_train.txt\n",
            "100% 64.1M/64.1M [00:02<00:00, 25.7MB/s]\n",
            "Downloading...\n",
            "From: https://drive.google.com/uc?id=1QVo7PZAdiZKzifK8kwhEr_umosiDCUx6\n",
            "To: /content/x_test.txt\n",
            "100% 65.2M/65.2M [00:01<00:00, 38.0MB/s]\n",
            "Downloading...\n",
            "From: https://drive.google.com/uc?id=1QbBeKcmG2ZyAEFB3AKGTgSWQ1YEMn2jl\n",
            "To: /content/y_train.txt\n",
            "100% 480k/480k [00:00<00:00, 99.4MB/s]\n",
            "Downloading...\n",
            "From: https://drive.google.com/uc?id=1QaZj6bI7_78ymnN8IpSk4gVvg-C9fA6X\n",
            "To: /content/y_test.txt\n",
            "100% 480k/480k [00:00<00:00, 96.0MB/s]\n"
          ]
        }
      ],
      "source": [
        "# Download dataset\n",
        "!gdown 1QP6YuwdKFNUPpvhOaAcvv2Pcp4JMbIRs # x_train\n",
        "!gdown 1QVo7PZAdiZKzifK8kwhEr_umosiDCUx6 # x_test\n",
        "!gdown 1QbBeKcmG2ZyAEFB3AKGTgSWQ1YEMn2jl # y_train\n",
        "!gdown 1QaZj6bI7_78ymnN8IpSk4gVvg-C9fA6X # y_test"
      ]
    },
    {
      "cell_type": "code",
      "source": [
        "with open(f'x_train.txt') as f:\n",
        "    x_train = f.read().splitlines()\n",
        "with open(f'y_train.txt') as f:\n",
        "    y_train = f.read().splitlines()\n",
        "with open(f'x_test.txt') as f:\n",
        "    x_test = f.read().splitlines()\n",
        "with open(f'y_test.txt') as f:\n",
        "    y_test = f.read().splitlines()"
      ],
      "metadata": {
        "id": "oU9VZeEEabMQ"
      },
      "execution_count": 3,
      "outputs": []
    },
    {
      "cell_type": "code",
      "execution_count": 4,
      "metadata": {
        "id": "n4PijB0TaMW8",
        "colab": {
          "base_uri": "https://localhost:8080/",
          "height": 206
        },
        "outputId": "416f9a1a-b40f-45be-9b5a-f8b29f577176"
      },
      "outputs": [
        {
          "output_type": "execute_result",
          "data": {
            "text/plain": [
              "                                                text label\n",
              "0  Klement Gottwaldi surnukeha palsameeriti ning ...   est\n",
              "1  Sebes, Joseph; Pereira Thomas (1961) (på eng)....   swe\n",
              "2  भारतीय स्वातन्त्र्य आन्दोलन राष्ट्रीय एवम क्षे...   mai\n",
              "3  Après lo cort periòde d'establiment a Basilèa,...   oci\n",
              "4  ถนนเจริญกรุง (อักษรโรมัน: Thanon Charoen Krung...   tha"
            ],
            "text/html": [
              "\n",
              "  <div id=\"df-15cfbedd-c8c1-47df-80b4-13b93e2c3342\" class=\"colab-df-container\">\n",
              "    <div>\n",
              "<style scoped>\n",
              "    .dataframe tbody tr th:only-of-type {\n",
              "        vertical-align: middle;\n",
              "    }\n",
              "\n",
              "    .dataframe tbody tr th {\n",
              "        vertical-align: top;\n",
              "    }\n",
              "\n",
              "    .dataframe thead th {\n",
              "        text-align: right;\n",
              "    }\n",
              "</style>\n",
              "<table border=\"1\" class=\"dataframe\">\n",
              "  <thead>\n",
              "    <tr style=\"text-align: right;\">\n",
              "      <th></th>\n",
              "      <th>text</th>\n",
              "      <th>label</th>\n",
              "    </tr>\n",
              "  </thead>\n",
              "  <tbody>\n",
              "    <tr>\n",
              "      <th>0</th>\n",
              "      <td>Klement Gottwaldi surnukeha palsameeriti ning ...</td>\n",
              "      <td>est</td>\n",
              "    </tr>\n",
              "    <tr>\n",
              "      <th>1</th>\n",
              "      <td>Sebes, Joseph; Pereira Thomas (1961) (på eng)....</td>\n",
              "      <td>swe</td>\n",
              "    </tr>\n",
              "    <tr>\n",
              "      <th>2</th>\n",
              "      <td>भारतीय स्वातन्त्र्य आन्दोलन राष्ट्रीय एवम क्षे...</td>\n",
              "      <td>mai</td>\n",
              "    </tr>\n",
              "    <tr>\n",
              "      <th>3</th>\n",
              "      <td>Après lo cort periòde d'establiment a Basilèa,...</td>\n",
              "      <td>oci</td>\n",
              "    </tr>\n",
              "    <tr>\n",
              "      <th>4</th>\n",
              "      <td>ถนนเจริญกรุง (อักษรโรมัน: Thanon Charoen Krung...</td>\n",
              "      <td>tha</td>\n",
              "    </tr>\n",
              "  </tbody>\n",
              "</table>\n",
              "</div>\n",
              "    <div class=\"colab-df-buttons\">\n",
              "\n",
              "  <div class=\"colab-df-container\">\n",
              "    <button class=\"colab-df-convert\" onclick=\"convertToInteractive('df-15cfbedd-c8c1-47df-80b4-13b93e2c3342')\"\n",
              "            title=\"Convert this dataframe to an interactive table.\"\n",
              "            style=\"display:none;\">\n",
              "\n",
              "  <svg xmlns=\"http://www.w3.org/2000/svg\" height=\"24px\" viewBox=\"0 -960 960 960\">\n",
              "    <path d=\"M120-120v-720h720v720H120Zm60-500h600v-160H180v160Zm220 220h160v-160H400v160Zm0 220h160v-160H400v160ZM180-400h160v-160H180v160Zm440 0h160v-160H620v160ZM180-180h160v-160H180v160Zm440 0h160v-160H620v160Z\"/>\n",
              "  </svg>\n",
              "    </button>\n",
              "\n",
              "  <style>\n",
              "    .colab-df-container {\n",
              "      display:flex;\n",
              "      gap: 12px;\n",
              "    }\n",
              "\n",
              "    .colab-df-convert {\n",
              "      background-color: #E8F0FE;\n",
              "      border: none;\n",
              "      border-radius: 50%;\n",
              "      cursor: pointer;\n",
              "      display: none;\n",
              "      fill: #1967D2;\n",
              "      height: 32px;\n",
              "      padding: 0 0 0 0;\n",
              "      width: 32px;\n",
              "    }\n",
              "\n",
              "    .colab-df-convert:hover {\n",
              "      background-color: #E2EBFA;\n",
              "      box-shadow: 0px 1px 2px rgba(60, 64, 67, 0.3), 0px 1px 3px 1px rgba(60, 64, 67, 0.15);\n",
              "      fill: #174EA6;\n",
              "    }\n",
              "\n",
              "    .colab-df-buttons div {\n",
              "      margin-bottom: 4px;\n",
              "    }\n",
              "\n",
              "    [theme=dark] .colab-df-convert {\n",
              "      background-color: #3B4455;\n",
              "      fill: #D2E3FC;\n",
              "    }\n",
              "\n",
              "    [theme=dark] .colab-df-convert:hover {\n",
              "      background-color: #434B5C;\n",
              "      box-shadow: 0px 1px 3px 1px rgba(0, 0, 0, 0.15);\n",
              "      filter: drop-shadow(0px 1px 2px rgba(0, 0, 0, 0.3));\n",
              "      fill: #FFFFFF;\n",
              "    }\n",
              "  </style>\n",
              "\n",
              "    <script>\n",
              "      const buttonEl =\n",
              "        document.querySelector('#df-15cfbedd-c8c1-47df-80b4-13b93e2c3342 button.colab-df-convert');\n",
              "      buttonEl.style.display =\n",
              "        google.colab.kernel.accessAllowed ? 'block' : 'none';\n",
              "\n",
              "      async function convertToInteractive(key) {\n",
              "        const element = document.querySelector('#df-15cfbedd-c8c1-47df-80b4-13b93e2c3342');\n",
              "        const dataTable =\n",
              "          await google.colab.kernel.invokeFunction('convertToInteractive',\n",
              "                                                    [key], {});\n",
              "        if (!dataTable) return;\n",
              "\n",
              "        const docLinkHtml = 'Like what you see? Visit the ' +\n",
              "          '<a target=\"_blank\" href=https://colab.research.google.com/notebooks/data_table.ipynb>data table notebook</a>'\n",
              "          + ' to learn more about interactive tables.';\n",
              "        element.innerHTML = '';\n",
              "        dataTable['output_type'] = 'display_data';\n",
              "        await google.colab.output.renderOutput(dataTable, element);\n",
              "        const docLink = document.createElement('div');\n",
              "        docLink.innerHTML = docLinkHtml;\n",
              "        element.appendChild(docLink);\n",
              "      }\n",
              "    </script>\n",
              "  </div>\n",
              "\n",
              "\n",
              "<div id=\"df-6c775430-b6c3-44f5-96bd-944e02c97834\">\n",
              "  <button class=\"colab-df-quickchart\" onclick=\"quickchart('df-6c775430-b6c3-44f5-96bd-944e02c97834')\"\n",
              "            title=\"Suggest charts\"\n",
              "            style=\"display:none;\">\n",
              "\n",
              "<svg xmlns=\"http://www.w3.org/2000/svg\" height=\"24px\"viewBox=\"0 0 24 24\"\n",
              "     width=\"24px\">\n",
              "    <g>\n",
              "        <path d=\"M19 3H5c-1.1 0-2 .9-2 2v14c0 1.1.9 2 2 2h14c1.1 0 2-.9 2-2V5c0-1.1-.9-2-2-2zM9 17H7v-7h2v7zm4 0h-2V7h2v10zm4 0h-2v-4h2v4z\"/>\n",
              "    </g>\n",
              "</svg>\n",
              "  </button>\n",
              "\n",
              "<style>\n",
              "  .colab-df-quickchart {\n",
              "      --bg-color: #E8F0FE;\n",
              "      --fill-color: #1967D2;\n",
              "      --hover-bg-color: #E2EBFA;\n",
              "      --hover-fill-color: #174EA6;\n",
              "      --disabled-fill-color: #AAA;\n",
              "      --disabled-bg-color: #DDD;\n",
              "  }\n",
              "\n",
              "  [theme=dark] .colab-df-quickchart {\n",
              "      --bg-color: #3B4455;\n",
              "      --fill-color: #D2E3FC;\n",
              "      --hover-bg-color: #434B5C;\n",
              "      --hover-fill-color: #FFFFFF;\n",
              "      --disabled-bg-color: #3B4455;\n",
              "      --disabled-fill-color: #666;\n",
              "  }\n",
              "\n",
              "  .colab-df-quickchart {\n",
              "    background-color: var(--bg-color);\n",
              "    border: none;\n",
              "    border-radius: 50%;\n",
              "    cursor: pointer;\n",
              "    display: none;\n",
              "    fill: var(--fill-color);\n",
              "    height: 32px;\n",
              "    padding: 0;\n",
              "    width: 32px;\n",
              "  }\n",
              "\n",
              "  .colab-df-quickchart:hover {\n",
              "    background-color: var(--hover-bg-color);\n",
              "    box-shadow: 0 1px 2px rgba(60, 64, 67, 0.3), 0 1px 3px 1px rgba(60, 64, 67, 0.15);\n",
              "    fill: var(--button-hover-fill-color);\n",
              "  }\n",
              "\n",
              "  .colab-df-quickchart-complete:disabled,\n",
              "  .colab-df-quickchart-complete:disabled:hover {\n",
              "    background-color: var(--disabled-bg-color);\n",
              "    fill: var(--disabled-fill-color);\n",
              "    box-shadow: none;\n",
              "  }\n",
              "\n",
              "  .colab-df-spinner {\n",
              "    border: 2px solid var(--fill-color);\n",
              "    border-color: transparent;\n",
              "    border-bottom-color: var(--fill-color);\n",
              "    animation:\n",
              "      spin 1s steps(1) infinite;\n",
              "  }\n",
              "\n",
              "  @keyframes spin {\n",
              "    0% {\n",
              "      border-color: transparent;\n",
              "      border-bottom-color: var(--fill-color);\n",
              "      border-left-color: var(--fill-color);\n",
              "    }\n",
              "    20% {\n",
              "      border-color: transparent;\n",
              "      border-left-color: var(--fill-color);\n",
              "      border-top-color: var(--fill-color);\n",
              "    }\n",
              "    30% {\n",
              "      border-color: transparent;\n",
              "      border-left-color: var(--fill-color);\n",
              "      border-top-color: var(--fill-color);\n",
              "      border-right-color: var(--fill-color);\n",
              "    }\n",
              "    40% {\n",
              "      border-color: transparent;\n",
              "      border-right-color: var(--fill-color);\n",
              "      border-top-color: var(--fill-color);\n",
              "    }\n",
              "    60% {\n",
              "      border-color: transparent;\n",
              "      border-right-color: var(--fill-color);\n",
              "    }\n",
              "    80% {\n",
              "      border-color: transparent;\n",
              "      border-right-color: var(--fill-color);\n",
              "      border-bottom-color: var(--fill-color);\n",
              "    }\n",
              "    90% {\n",
              "      border-color: transparent;\n",
              "      border-bottom-color: var(--fill-color);\n",
              "    }\n",
              "  }\n",
              "</style>\n",
              "\n",
              "  <script>\n",
              "    async function quickchart(key) {\n",
              "      const quickchartButtonEl =\n",
              "        document.querySelector('#' + key + ' button');\n",
              "      quickchartButtonEl.disabled = true;  // To prevent multiple clicks.\n",
              "      quickchartButtonEl.classList.add('colab-df-spinner');\n",
              "      try {\n",
              "        const charts = await google.colab.kernel.invokeFunction(\n",
              "            'suggestCharts', [key], {});\n",
              "      } catch (error) {\n",
              "        console.error('Error during call to suggestCharts:', error);\n",
              "      }\n",
              "      quickchartButtonEl.classList.remove('colab-df-spinner');\n",
              "      quickchartButtonEl.classList.add('colab-df-quickchart-complete');\n",
              "    }\n",
              "    (() => {\n",
              "      let quickchartButtonEl =\n",
              "        document.querySelector('#df-6c775430-b6c3-44f5-96bd-944e02c97834 button');\n",
              "      quickchartButtonEl.style.display =\n",
              "        google.colab.kernel.accessAllowed ? 'block' : 'none';\n",
              "    })();\n",
              "  </script>\n",
              "</div>\n",
              "\n",
              "    </div>\n",
              "  </div>\n"
            ],
            "application/vnd.google.colaboratory.intrinsic+json": {
              "type": "dataframe",
              "variable_name": "train_df"
            }
          },
          "metadata": {},
          "execution_count": 4
        }
      ],
      "source": [
        "# Combine x_train and y_train into one dataframe\n",
        "train_df = pd.DataFrame({'text': x_train, 'label': y_train})\n",
        "# Write train_df to csv with tab as separator\n",
        "train_df.to_csv('train_df.csv', index=False, sep='\\t')\n",
        "# Comibne x_test and y_test into one dataframe\n",
        "test_df = pd.DataFrame({'text': x_test, 'label': y_test})\n",
        "# Inspect the first 5 items in the train split\n",
        "train_df.head()"
      ]
    },
    {
      "cell_type": "code",
      "execution_count": 5,
      "metadata": {
        "colab": {
          "base_uri": "https://localhost:8080/"
        },
        "id": "_96MFk6daMW9",
        "outputId": "6bcbb54f-6d1e-439d-bef7-68fb6971407b"
      },
      "outputs": [
        {
          "output_type": "stream",
          "name": "stdout",
          "text": [
            "['est', 'swe', 'mai', 'oci', 'tha', 'orm', 'lim', 'guj', 'pnb', 'zea', 'krc', 'hat', 'pcd', 'tam', 'vie', 'pan', 'szl', 'ckb', 'fur', 'wuu', 'arz', 'ton', 'eus', 'map-bms', 'glk', 'nld', 'bod', 'jpn', 'arg', 'srd', 'ext', 'sin', 'kur', 'che', 'tuk', 'pag', 'tur', 'als', 'koi', 'lat', 'urd', 'tat', 'bxr', 'ind', 'kir', 'zh-yue', 'dan', 'por', 'fra', 'ori', 'nob', 'jbo', 'kok', 'amh', 'khm', 'hbs', 'slv', 'bos', 'tet', 'zho', 'kor', 'sah', 'rup', 'ast', 'wol', 'bul', 'gla', 'msa', 'crh', 'lug', 'sun', 'bre', 'mon', 'nep', 'ibo', 'cdo', 'asm', 'grn', 'hin', 'mar', 'lin', 'ile', 'lmo', 'mya', 'ilo', 'csb', 'tyv', 'gle', 'nan', 'jam', 'scn', 'be-tarask', 'diq', 'cor', 'fao', 'mlg', 'yid', 'sme', 'spa', 'kbd', 'udm', 'isl', 'ksh', 'san', 'aze', 'nap', 'dsb', 'pam', 'cym', 'srp', 'stq', 'tel', 'swa', 'vls', 'mzn', 'bel', 'lad', 'ina', 'ava', 'lao', 'min', 'ita', 'nds-nl', 'oss', 'kab', 'pus', 'fin', 'snd', 'kaa', 'fas', 'cbk', 'cat', 'nci', 'mhr', 'roa-tara', 'frp', 'ron', 'new', 'bar', 'ltg', 'vro', 'lav', 'ces', 'yor', 'nso', 'bak', 'rus', 'ace', 'mdf', 'vep', 'sgs', 'uig', 'lit', 'sqi', 'som', 'slk', 'sco', 'ukr', 'mri', 'hrv', 'vol', 'eng', 'glv', 'ben', 'ido', 'jav', 'tcy', 'mrj', 'hif', 'sna', 'war', 'mlt', 'egl', 'tsn', 'lez', 'hak', 'kom', 'azb', 'que', 'lzh', 'ara', 'fry', 'dty', 'mal', 'heb', 'gag', 'chv', 'afr', 'pap', 'kin', 'ang', 'kaz', 'bjn', 'hye', 'olo', 'xmf', 'uzb', 'bcl', 'pdc', 'hsb', 'srn', 'kat', 'tgl', 'nno', 'glg', 'roh', 'kan', 'chr', 'lrc', 'div', 'myv', 'cos', 'hun', 'nrm', 'pfl', 'wln', 'bho', 'epo', 'deu', 'nav', 'mwl', 'pol', 'rue', 'vec', 'nds', 'aym', 'tgk', 'ceb', 'xho', 'bpy', 'ell', 'lij', 'hau', 'mkd', 'ltz']\n"
          ]
        }
      ],
      "source": [
        "# Get list of all labels\n",
        "labels = train_df['label'].unique().tolist()\n",
        "print(labels)"
      ]
    },
    {
      "cell_type": "markdown",
      "source": [
        "\n",
        "### 1.1 Exploring the training data\n",
        "\n",
        "📝❓Take a look at a couple of texts from different languages and answer the following questions:\n",
        "\n",
        "1. Do you notice anything that might be challenging for the classification?\n",
        "2. How is the data distributed? (i.e., how many instances per label are there in the training and test set? Is it a balanced dataset?)\n",
        "3. Do you think the train/test split is appropriate (i.e., is the test data representative of the training data)? If not, please rearrange the data in a more appropriate way.\n"
      ],
      "metadata": {
        "id": "CSMKrNfm8Vzs"
      }
    },
    {
      "cell_type": "code",
      "source": [
        "# TODO: Inspect the training data\n",
        "train_df.info()"
      ],
      "metadata": {
        "id": "Dd2MQGaZ9EsZ",
        "colab": {
          "base_uri": "https://localhost:8080/"
        },
        "outputId": "2e525f75-fc22-4076-9bdb-9bda1981e039"
      },
      "execution_count": 6,
      "outputs": [
        {
          "output_type": "stream",
          "name": "stdout",
          "text": [
            "<class 'pandas.core.frame.DataFrame'>\n",
            "RangeIndex: 117500 entries, 0 to 117499\n",
            "Data columns (total 2 columns):\n",
            " #   Column  Non-Null Count   Dtype \n",
            "---  ------  --------------   ----- \n",
            " 0   text    117500 non-null  object\n",
            " 1   label   117500 non-null  object\n",
            "dtypes: object(2)\n",
            "memory usage: 1.8+ MB\n"
          ]
        }
      ]
    },
    {
      "cell_type": "code",
      "source": [
        "# number of entries per label in training set\n",
        "train_df['label'].value_counts()"
      ],
      "metadata": {
        "colab": {
          "base_uri": "https://localhost:8080/",
          "height": 489
        },
        "id": "zTMiiqKcRqmn",
        "outputId": "9009d590-b3c2-4e5c-aec2-29082b6593a6"
      },
      "execution_count": 7,
      "outputs": [
        {
          "output_type": "execute_result",
          "data": {
            "text/plain": [
              "label\n",
              "est    500\n",
              "eng    500\n",
              "vep    500\n",
              "sgs    500\n",
              "uig    500\n",
              "      ... \n",
              "lmo    500\n",
              "mya    500\n",
              "ilo    500\n",
              "csb    500\n",
              "ltz    500\n",
              "Name: count, Length: 235, dtype: int64"
            ],
            "text/html": [
              "<div>\n",
              "<style scoped>\n",
              "    .dataframe tbody tr th:only-of-type {\n",
              "        vertical-align: middle;\n",
              "    }\n",
              "\n",
              "    .dataframe tbody tr th {\n",
              "        vertical-align: top;\n",
              "    }\n",
              "\n",
              "    .dataframe thead th {\n",
              "        text-align: right;\n",
              "    }\n",
              "</style>\n",
              "<table border=\"1\" class=\"dataframe\">\n",
              "  <thead>\n",
              "    <tr style=\"text-align: right;\">\n",
              "      <th></th>\n",
              "      <th>count</th>\n",
              "    </tr>\n",
              "    <tr>\n",
              "      <th>label</th>\n",
              "      <th></th>\n",
              "    </tr>\n",
              "  </thead>\n",
              "  <tbody>\n",
              "    <tr>\n",
              "      <th>est</th>\n",
              "      <td>500</td>\n",
              "    </tr>\n",
              "    <tr>\n",
              "      <th>eng</th>\n",
              "      <td>500</td>\n",
              "    </tr>\n",
              "    <tr>\n",
              "      <th>vep</th>\n",
              "      <td>500</td>\n",
              "    </tr>\n",
              "    <tr>\n",
              "      <th>sgs</th>\n",
              "      <td>500</td>\n",
              "    </tr>\n",
              "    <tr>\n",
              "      <th>uig</th>\n",
              "      <td>500</td>\n",
              "    </tr>\n",
              "    <tr>\n",
              "      <th>...</th>\n",
              "      <td>...</td>\n",
              "    </tr>\n",
              "    <tr>\n",
              "      <th>lmo</th>\n",
              "      <td>500</td>\n",
              "    </tr>\n",
              "    <tr>\n",
              "      <th>mya</th>\n",
              "      <td>500</td>\n",
              "    </tr>\n",
              "    <tr>\n",
              "      <th>ilo</th>\n",
              "      <td>500</td>\n",
              "    </tr>\n",
              "    <tr>\n",
              "      <th>csb</th>\n",
              "      <td>500</td>\n",
              "    </tr>\n",
              "    <tr>\n",
              "      <th>ltz</th>\n",
              "      <td>500</td>\n",
              "    </tr>\n",
              "  </tbody>\n",
              "</table>\n",
              "<p>235 rows × 1 columns</p>\n",
              "</div><br><label><b>dtype:</b> int64</label>"
            ]
          },
          "metadata": {},
          "execution_count": 7
        }
      ]
    },
    {
      "cell_type": "code",
      "source": [
        "# and in test set\n",
        "test_df['label'].value_counts()"
      ],
      "metadata": {
        "colab": {
          "base_uri": "https://localhost:8080/",
          "height": 489
        },
        "id": "j6jwOAwxSg_2",
        "outputId": "2bd148af-6919-4556-b9ea-1df1e2f98970"
      },
      "execution_count": 8,
      "outputs": [
        {
          "output_type": "execute_result",
          "data": {
            "text/plain": [
              "label\n",
              "mwl    500\n",
              "uig    500\n",
              "tat    500\n",
              "nno    500\n",
              "new    500\n",
              "      ... \n",
              "frp    500\n",
              "krc    500\n",
              "mlg    500\n",
              "msa    500\n",
              "ckb    500\n",
              "Name: count, Length: 235, dtype: int64"
            ],
            "text/html": [
              "<div>\n",
              "<style scoped>\n",
              "    .dataframe tbody tr th:only-of-type {\n",
              "        vertical-align: middle;\n",
              "    }\n",
              "\n",
              "    .dataframe tbody tr th {\n",
              "        vertical-align: top;\n",
              "    }\n",
              "\n",
              "    .dataframe thead th {\n",
              "        text-align: right;\n",
              "    }\n",
              "</style>\n",
              "<table border=\"1\" class=\"dataframe\">\n",
              "  <thead>\n",
              "    <tr style=\"text-align: right;\">\n",
              "      <th></th>\n",
              "      <th>count</th>\n",
              "    </tr>\n",
              "    <tr>\n",
              "      <th>label</th>\n",
              "      <th></th>\n",
              "    </tr>\n",
              "  </thead>\n",
              "  <tbody>\n",
              "    <tr>\n",
              "      <th>mwl</th>\n",
              "      <td>500</td>\n",
              "    </tr>\n",
              "    <tr>\n",
              "      <th>uig</th>\n",
              "      <td>500</td>\n",
              "    </tr>\n",
              "    <tr>\n",
              "      <th>tat</th>\n",
              "      <td>500</td>\n",
              "    </tr>\n",
              "    <tr>\n",
              "      <th>nno</th>\n",
              "      <td>500</td>\n",
              "    </tr>\n",
              "    <tr>\n",
              "      <th>new</th>\n",
              "      <td>500</td>\n",
              "    </tr>\n",
              "    <tr>\n",
              "      <th>...</th>\n",
              "      <td>...</td>\n",
              "    </tr>\n",
              "    <tr>\n",
              "      <th>frp</th>\n",
              "      <td>500</td>\n",
              "    </tr>\n",
              "    <tr>\n",
              "      <th>krc</th>\n",
              "      <td>500</td>\n",
              "    </tr>\n",
              "    <tr>\n",
              "      <th>mlg</th>\n",
              "      <td>500</td>\n",
              "    </tr>\n",
              "    <tr>\n",
              "      <th>msa</th>\n",
              "      <td>500</td>\n",
              "    </tr>\n",
              "    <tr>\n",
              "      <th>ckb</th>\n",
              "      <td>500</td>\n",
              "    </tr>\n",
              "  </tbody>\n",
              "</table>\n",
              "<p>235 rows × 1 columns</p>\n",
              "</div><br><label><b>dtype:</b> int64</label>"
            ]
          },
          "metadata": {},
          "execution_count": 8
        }
      ]
    },
    {
      "cell_type": "code",
      "source": [
        "# Adjust pandas display options to show full text\n",
        "pd.set_option('display.max_colwidth', None)"
      ],
      "metadata": {
        "id": "zTa8-05ePIaq"
      },
      "execution_count": 9,
      "outputs": []
    },
    {
      "cell_type": "code",
      "source": [
        "train_df.head(15)"
      ],
      "metadata": {
        "colab": {
          "base_uri": "https://localhost:8080/",
          "height": 1000
        },
        "id": "jHloR7oiTNj9",
        "outputId": "9ba705e3-4941-4211-88fc-22bd4ff97832"
      },
      "execution_count": 10,
      "outputs": [
        {
          "output_type": "execute_result",
          "data": {
            "text/plain": [
              "                                                                                                                                                                                                                                                                                                                                                                                                                                                                                                                                                                                                                                                                                                                                                                                                                                                                                                                                                                                                                                                                                                                  text  \\\n",
              "0                                                                                                                                                                                                                                                                                                                                                                                                                                                                                                                                                                                                                                                                                                                                        Klement Gottwaldi surnukeha palsameeriti ning paigutati mausoleumi. Surnukeha oli aga liiga hilja ja oskamatult palsameeritud ning hakkas ilmutama lagunemise tundemärke. 1962. aastal viidi ta surnukeha mausoleumist ära ja kremeeriti. Zlíni linn kandis aastatel 1949–1989 nime Gottwaldov. Ukrainas Harkivi oblastis kandis Zmiivi linn aastatel 1976–1990 nime Gotvald.   \n",
              "1                                                                                                                                                                                                                                                                                                                                                                                                                                                                                                                                                                                                                                                                                                                                                                                                                                                                                               Sebes, Joseph; Pereira Thomas (1961) (på eng). The Jesuits and the Sino-Russian treaty of Nerchinsk (1689): the diary of Thomas Pereira. Bibliotheca Instituti historici S. I., 99-0105377-3 ; 18. Rome. Libris 677492   \n",
              "2                                                                                                                                                                                                                                                                                                                                                                                                                                                                                                                                                                                                                                                         भारतीय स्वातन्त्र्य आन्दोलन राष्ट्रीय एवम क्षेत्रीय आह्वान, उत्तेजनासभ एवम प्रयत्नसँ प्रेरित, भारतीय राजनैतिक सङ्गठनद्वारा सञ्चालित अहिंसावादी आ सैन्यवादी आन्दोलन छल, जेकर एक समान उद्देश्य, अङ्ग्रेजी शासनक भारतीय उपमहाद्वीपसँ जडीसँ उखाड फेकनाई छल। ई आन्दोलनक शुरुआत १८५७ मे भेल सिपाही विद्रोहक मानल जाइत अछि। स्वाधीनताक लेल हजारो लोग अपन प्राणक बलि देलक। भारतीय राष्ट्रीय कांग्रेस १९३० कांग्रेस अधिवेशन मे अङ्ग्रेजसँ पूर्ण स्वराजक मांग केने छल।   \n",
              "3   Après lo cort periòde d'establiment a Basilèa, tornèt a viatjar, venent un «sabent caminaire», . Sa preséncia es atestada a Colmar ont escriguèt sus la sifilis e Bertheonea sive chirurgia minor, manual per «legit» e interpretar los signes corporals, a Esslingen (aprigondèt sas coneissença en sciéncias ocultas), Nurembèrg (novembre de 1529: faguèt la coneissénça del mistic Sébastien Franck, Beratzhausen (1530: comencèt a escriure de la teologia e lo Paragranum), Sankt Gallen (1531: acabèt Liber paramirum), Appenzell (1533), Sterzing (1534 : sonhava de la pèsta), Merano, Sant Moritz, Pfäffers (Bad Ragaz), Ulm, Augsborg (1536), Munic, Eferding (1537), Kromau (en Moràvia: escriguèt son Astronomia magna), Viena (1537-1538, lo recebèt Ferrand I del Sant Empèri, rei de Boèlia e d'Ongria, rei dels Romans), Villach (mai de 1538). En païses minièrs (val d’Inn), a Appenzell, escriguèt sus las malautiás dels minors (1533); dins las vilas d’aigas (coma Pfäffers) estudièt los benfachs de las aigas termalas (1535), fondant atal la medecina professionala e la balneoterapia.   \n",
              "4                                                                                                                                                                                                                                                                                                                                                                                                                                                                                                                                                                                                                                                                                                                                                                                                                                                       ถนนเจริญกรุง (อักษรโรมัน: Thanon Charoen Krung) เริ่มตั้งแต่ถนนสนามไชยถึงแม่น้ำเจ้าพระยาที่ถนนตก กรุงเทพมหานคร เป็นถนนรุ่นแรกที่ใช้เทคนิคการสร้างแบบตะวันตก ปัจจุบันผ่านพื้นที่เขตพระนคร เขตป้อมปราบศัตรูพ่าย เขตสัมพันธวงศ์ เขตบางรัก เขตสาทร และเขตบางคอแหลม   \n",
              "5                                                                                                                                                                                                                                                                                                                                                                                                                                                                                                                                                                                                                                                                       Mudde 14, 2012tti, TNQ USA raxibacumab antiraaksii qilleensaan seenuu yaaluu akka limmoodhaan kennamu eeyyame. Raxibacumab antiibodii monoclonial kan summii Baasiles Antiraasisiin uummamu sana halaksiisa. Summiin kun tishuurratti miidhama hin fayyinee fi du'a fida. Antiibodii monoclonial kun pirootiinii antiibodii namaa fakkaatu yoo ta'u qaamota alaa nama keessa seenan kan akka baakteeriyaa fi vaayiresii barbaadanii balleessa.   \n",
              "6                                                                                                                                                                                                                                                                                                                                                                                         Kiribati is 't 174e land op de wereld, nao Saõ Tomé en Príncipe en veur Bahrein. 't Besteit oet inkel tientalle eilendsjes, allemaol koraoleilendsjes (väölal atolle), die naovenant mer kort bove zie oetkoume. De eilendsjes groepere ziech zoe: Banaba (e geïsoleerd eiland in 't weste), de Gilberteilen (16 atolle in 't midde), de Fenikseilen (8 atolle en koraoleilen in 't zuidzuidooste) en de Lijneilen (8 atolle en ei rif in 't ooste; dao-oonder Kiritimati, 't groetste bovezies atol op de wereld). De mierderheid vaan de eilen is bewoend. Banaba haolt de veur koraoleilen oetzunderleke huugde vaan 81 meter, de res vaan 't land löp acuut gevaar veur es gevolg vaan 't breujkaseffek oonder te loupe.   \n",
              "7                                                                                                                                                                                                                                                                                                                                                                                                                                                                                                                                                                                                                                                                                                                                                                                                                                                                                                                           He was a economics graduate from Elphinstone College, Mumbai. He was an industrialist in plastics business. He served as a president of Gujarat Chamber of Commerce and Industry in 1990s.   \n",
              "8                                                                                                                                                                                                                                                                                                                                                                                                                                                                                                                                                                                                                                                                                                                                                                                                                                                                                                                براعظم ایشیاء تے یورپ اتے پھیلے ہوئے دیس ترکی دے 81 صوبے نیں ۔ اس دے بوہتے صوبےآں دے ناں اس صوبے دے صدرمقام شہر اتے نیں ۔ صوبہ ہاتے ترکی دے 81 صوبےآں چوں اک اے تے اسدا انتظامی مرکز انطاکیہ شہر اے ۔   \n",
              "9                                                                                                                                                                                                                                                                                                                                                                                                                                                                                                                                                                                                                                                                                                                                                                                                              Vanwehe zen Gentsen ofkomst wor 't een ok wè Gandensis enoemd. In meie van 't jaer 980 trouwen Arnold mie Lutgardis van Luxemburg, den dochter van Siegfried van Verdun, graef van Luxemburg. Naeda Arnold was esneuveld in de Slag bie Wienkel, volhen zen zeune Dirk III van 'Olland een op as graef.   \n",
              "10                                                                                                                                                                                                                                                                                                                                                                                                                                                                                                                                                                                                                                                                                                                                                                                                           Суонси бла Мамблзны темир джолу (ингил. Swansea and Mumbles Railway) — дунияда регуляр пассажир ташыулары болгъан биринчи темир джолду. Дунияда темир джолладан эм эскилени бириди. XX ёмюрню аллында джол шахар тёгереги трамвай халгъа келгенди. 1806 джылдан 1960 джылны 5-чи январына дери ишлегенди.   \n",
              "11                                                                                                                                                                                                                                                                                                                                                                                                                                                                                                                                                                                                                                                                                                                                                                                                                            6 fevrye 1996 : Gouvènman ayisyen reprann kontak ak otorite Kiben ( 2 chanselye Ayisyen epi Kiben Emmanuel Fritz Longchamp epi Roberto Robaina ); relasyon diplomatik sa te sispann depi 1962, dat Kiba te dwèt retire l de òganizasyon OEA. Relasyon sa te koumanse depi 3 fevrye 1904.   \n",
              "12                                                                                                                                                                                                                                                                                                                                                                                                                                                                                                                                                                                                                                                                                                                                                                                                                                                                                                                                                  Espace dédié à la présentation de l'ensemble des projets et des forums de discussion du réseau permettant à tous les membres de participer aux différents ateliers   \n",
              "13                                                                                                                                                                                                                                                                                                                                                                                                                                                                                                                                                                                                                                                                                                                                                                                          விசாகப்பட்டினம் தமிழ்ச்சங்கத்தை இந்துப் பத்திரிகை-விசாகப்பட்டின ஆசிரியர் சம்பத்துடன் இணைந்து விரிவுபடுத்தினார். 16 ஆண்டுகள் தொடர்ந்து செயலராக இருந்து தமிழ்மன்றத்தை நடத்திச் சென்றார். 2010 கோவை செம்மொழி மாநாட்டில் \"தமிழ்ச்சங்கங்களும் தமிழும்\" எனும் தலைப்பில் பிற மாநிலங்களில் தமிழ்வளர்ச்சி பற்றி கட்டுரை வாசித்தார்.   \n",
              "14                                                                                                                                                                                                                                                                                                                                                                                                                                                                                                                                                                                                                                                                                                                                                                                                                            Bùi Tiến Dũng (sinh năm 1959 tại huyện Ứng Hòa tỉnh Hà Tây nay là Hà Nội) hay Con bạc triệu đô (biệt danh do báo chí và giới truyền thông đặt) là tổng giám đốc PMU-18, nhân vật chính trong vụ tham nhũng PMU-18 gây chấn động dư luận Việt Nam trước Đại hội X Đảng Cộng sản Việt Nam.   \n",
              "\n",
              "   label  \n",
              "0    est  \n",
              "1    swe  \n",
              "2    mai  \n",
              "3    oci  \n",
              "4    tha  \n",
              "5    orm  \n",
              "6    lim  \n",
              "7    guj  \n",
              "8    pnb  \n",
              "9    zea  \n",
              "10   krc  \n",
              "11   hat  \n",
              "12   pcd  \n",
              "13   tam  \n",
              "14   vie  "
            ],
            "text/html": [
              "\n",
              "  <div id=\"df-6dd7f0b1-b022-43c5-99e1-fb06dd1dc208\" class=\"colab-df-container\">\n",
              "    <div>\n",
              "<style scoped>\n",
              "    .dataframe tbody tr th:only-of-type {\n",
              "        vertical-align: middle;\n",
              "    }\n",
              "\n",
              "    .dataframe tbody tr th {\n",
              "        vertical-align: top;\n",
              "    }\n",
              "\n",
              "    .dataframe thead th {\n",
              "        text-align: right;\n",
              "    }\n",
              "</style>\n",
              "<table border=\"1\" class=\"dataframe\">\n",
              "  <thead>\n",
              "    <tr style=\"text-align: right;\">\n",
              "      <th></th>\n",
              "      <th>text</th>\n",
              "      <th>label</th>\n",
              "    </tr>\n",
              "  </thead>\n",
              "  <tbody>\n",
              "    <tr>\n",
              "      <th>0</th>\n",
              "      <td>Klement Gottwaldi surnukeha palsameeriti ning paigutati mausoleumi. Surnukeha oli aga liiga hilja ja oskamatult palsameeritud ning hakkas ilmutama lagunemise tundemärke. 1962. aastal viidi ta surnukeha mausoleumist ära ja kremeeriti. Zlíni linn kandis aastatel 1949–1989 nime Gottwaldov. Ukrainas Harkivi oblastis kandis Zmiivi linn aastatel 1976–1990 nime Gotvald.</td>\n",
              "      <td>est</td>\n",
              "    </tr>\n",
              "    <tr>\n",
              "      <th>1</th>\n",
              "      <td>Sebes, Joseph; Pereira Thomas (1961) (på eng). The Jesuits and the Sino-Russian treaty of Nerchinsk (1689): the diary of Thomas Pereira. Bibliotheca Instituti historici S. I., 99-0105377-3 ; 18. Rome. Libris 677492</td>\n",
              "      <td>swe</td>\n",
              "    </tr>\n",
              "    <tr>\n",
              "      <th>2</th>\n",
              "      <td>भारतीय स्वातन्त्र्य आन्दोलन राष्ट्रीय एवम क्षेत्रीय आह्वान, उत्तेजनासभ एवम प्रयत्नसँ प्रेरित, भारतीय राजनैतिक सङ्गठनद्वारा सञ्चालित अहिंसावादी आ सैन्यवादी आन्दोलन छल, जेकर एक समान उद्देश्य, अङ्ग्रेजी शासनक भारतीय उपमहाद्वीपसँ जडीसँ उखाड फेकनाई छल। ई आन्दोलनक शुरुआत १८५७ मे भेल सिपाही विद्रोहक मानल जाइत अछि। स्वाधीनताक लेल हजारो लोग अपन प्राणक बलि देलक। भारतीय राष्ट्रीय कांग्रेस १९३० कांग्रेस अधिवेशन मे अङ्ग्रेजसँ पूर्ण स्वराजक मांग केने छल।</td>\n",
              "      <td>mai</td>\n",
              "    </tr>\n",
              "    <tr>\n",
              "      <th>3</th>\n",
              "      <td>Après lo cort periòde d'establiment a Basilèa, tornèt a viatjar, venent un «sabent caminaire», . Sa preséncia es atestada a Colmar ont escriguèt sus la sifilis e Bertheonea sive chirurgia minor, manual per «legit» e interpretar los signes corporals, a Esslingen (aprigondèt sas coneissença en sciéncias ocultas), Nurembèrg (novembre de 1529: faguèt la coneissénça del mistic Sébastien Franck, Beratzhausen (1530: comencèt a escriure de la teologia e lo Paragranum), Sankt Gallen (1531: acabèt Liber paramirum), Appenzell (1533), Sterzing (1534 : sonhava de la pèsta), Merano, Sant Moritz, Pfäffers (Bad Ragaz), Ulm, Augsborg (1536), Munic, Eferding (1537), Kromau (en Moràvia: escriguèt son Astronomia magna), Viena (1537-1538, lo recebèt Ferrand I del Sant Empèri, rei de Boèlia e d'Ongria, rei dels Romans), Villach (mai de 1538). En païses minièrs (val d’Inn), a Appenzell, escriguèt sus las malautiás dels minors (1533); dins las vilas d’aigas (coma Pfäffers) estudièt los benfachs de las aigas termalas (1535), fondant atal la medecina professionala e la balneoterapia.</td>\n",
              "      <td>oci</td>\n",
              "    </tr>\n",
              "    <tr>\n",
              "      <th>4</th>\n",
              "      <td>ถนนเจริญกรุง (อักษรโรมัน: Thanon Charoen Krung) เริ่มตั้งแต่ถนนสนามไชยถึงแม่น้ำเจ้าพระยาที่ถนนตก กรุงเทพมหานคร เป็นถนนรุ่นแรกที่ใช้เทคนิคการสร้างแบบตะวันตก ปัจจุบันผ่านพื้นที่เขตพระนคร เขตป้อมปราบศัตรูพ่าย เขตสัมพันธวงศ์ เขตบางรัก เขตสาทร และเขตบางคอแหลม</td>\n",
              "      <td>tha</td>\n",
              "    </tr>\n",
              "    <tr>\n",
              "      <th>5</th>\n",
              "      <td>Mudde 14, 2012tti, TNQ USA raxibacumab antiraaksii qilleensaan seenuu yaaluu akka limmoodhaan kennamu eeyyame. Raxibacumab antiibodii monoclonial kan summii Baasiles Antiraasisiin uummamu sana halaksiisa. Summiin kun tishuurratti miidhama hin fayyinee fi du'a fida. Antiibodii monoclonial kun pirootiinii antiibodii namaa fakkaatu yoo ta'u qaamota alaa nama keessa seenan kan akka baakteeriyaa fi vaayiresii barbaadanii balleessa.</td>\n",
              "      <td>orm</td>\n",
              "    </tr>\n",
              "    <tr>\n",
              "      <th>6</th>\n",
              "      <td>Kiribati is 't 174e land op de wereld, nao Saõ Tomé en Príncipe en veur Bahrein. 't Besteit oet inkel tientalle eilendsjes, allemaol koraoleilendsjes (väölal atolle), die naovenant mer kort bove zie oetkoume. De eilendsjes groepere ziech zoe: Banaba (e geïsoleerd eiland in 't weste), de Gilberteilen (16 atolle in 't midde), de Fenikseilen (8 atolle en koraoleilen in 't zuidzuidooste) en de Lijneilen (8 atolle en ei rif in 't ooste; dao-oonder Kiritimati, 't groetste bovezies atol op de wereld). De mierderheid vaan de eilen is bewoend. Banaba haolt de veur koraoleilen oetzunderleke huugde vaan 81 meter, de res vaan 't land löp acuut gevaar veur es gevolg vaan 't breujkaseffek oonder te loupe.</td>\n",
              "      <td>lim</td>\n",
              "    </tr>\n",
              "    <tr>\n",
              "      <th>7</th>\n",
              "      <td>He was a economics graduate from Elphinstone College, Mumbai. He was an industrialist in plastics business. He served as a president of Gujarat Chamber of Commerce and Industry in 1990s.</td>\n",
              "      <td>guj</td>\n",
              "    </tr>\n",
              "    <tr>\n",
              "      <th>8</th>\n",
              "      <td>براعظم ایشیاء تے یورپ اتے پھیلے ہوئے دیس ترکی دے 81 صوبے نیں ۔ اس دے بوہتے صوبےآں دے ناں اس صوبے دے صدرمقام شہر اتے نیں ۔ صوبہ ہاتے ترکی دے 81 صوبےآں چوں اک اے تے اسدا انتظامی مرکز انطاکیہ شہر اے ۔</td>\n",
              "      <td>pnb</td>\n",
              "    </tr>\n",
              "    <tr>\n",
              "      <th>9</th>\n",
              "      <td>Vanwehe zen Gentsen ofkomst wor 't een ok wè Gandensis enoemd. In meie van 't jaer 980 trouwen Arnold mie Lutgardis van Luxemburg, den dochter van Siegfried van Verdun, graef van Luxemburg. Naeda Arnold was esneuveld in de Slag bie Wienkel, volhen zen zeune Dirk III van 'Olland een op as graef.</td>\n",
              "      <td>zea</td>\n",
              "    </tr>\n",
              "    <tr>\n",
              "      <th>10</th>\n",
              "      <td>Суонси бла Мамблзны темир джолу (ингил. Swansea and Mumbles Railway) — дунияда регуляр пассажир ташыулары болгъан биринчи темир джолду. Дунияда темир джолладан эм эскилени бириди. XX ёмюрню аллында джол шахар тёгереги трамвай халгъа келгенди. 1806 джылдан 1960 джылны 5-чи январына дери ишлегенди.</td>\n",
              "      <td>krc</td>\n",
              "    </tr>\n",
              "    <tr>\n",
              "      <th>11</th>\n",
              "      <td>6 fevrye 1996 : Gouvènman ayisyen reprann kontak ak otorite Kiben ( 2 chanselye Ayisyen epi Kiben Emmanuel Fritz Longchamp epi Roberto Robaina ); relasyon diplomatik sa te sispann depi 1962, dat Kiba te dwèt retire l de òganizasyon OEA. Relasyon sa te koumanse depi 3 fevrye 1904.</td>\n",
              "      <td>hat</td>\n",
              "    </tr>\n",
              "    <tr>\n",
              "      <th>12</th>\n",
              "      <td>Espace dédié à la présentation de l'ensemble des projets et des forums de discussion du réseau permettant à tous les membres de participer aux différents ateliers</td>\n",
              "      <td>pcd</td>\n",
              "    </tr>\n",
              "    <tr>\n",
              "      <th>13</th>\n",
              "      <td>விசாகப்பட்டினம் தமிழ்ச்சங்கத்தை இந்துப் பத்திரிகை-விசாகப்பட்டின ஆசிரியர் சம்பத்துடன் இணைந்து விரிவுபடுத்தினார். 16 ஆண்டுகள் தொடர்ந்து செயலராக இருந்து தமிழ்மன்றத்தை நடத்திச் சென்றார். 2010 கோவை செம்மொழி மாநாட்டில் \"தமிழ்ச்சங்கங்களும் தமிழும்\" எனும் தலைப்பில் பிற மாநிலங்களில் தமிழ்வளர்ச்சி பற்றி கட்டுரை வாசித்தார்.</td>\n",
              "      <td>tam</td>\n",
              "    </tr>\n",
              "    <tr>\n",
              "      <th>14</th>\n",
              "      <td>Bùi Tiến Dũng (sinh năm 1959 tại huyện Ứng Hòa tỉnh Hà Tây nay là Hà Nội) hay Con bạc triệu đô (biệt danh do báo chí và giới truyền thông đặt) là tổng giám đốc PMU-18, nhân vật chính trong vụ tham nhũng PMU-18 gây chấn động dư luận Việt Nam trước Đại hội X Đảng Cộng sản Việt Nam.</td>\n",
              "      <td>vie</td>\n",
              "    </tr>\n",
              "  </tbody>\n",
              "</table>\n",
              "</div>\n",
              "    <div class=\"colab-df-buttons\">\n",
              "\n",
              "  <div class=\"colab-df-container\">\n",
              "    <button class=\"colab-df-convert\" onclick=\"convertToInteractive('df-6dd7f0b1-b022-43c5-99e1-fb06dd1dc208')\"\n",
              "            title=\"Convert this dataframe to an interactive table.\"\n",
              "            style=\"display:none;\">\n",
              "\n",
              "  <svg xmlns=\"http://www.w3.org/2000/svg\" height=\"24px\" viewBox=\"0 -960 960 960\">\n",
              "    <path d=\"M120-120v-720h720v720H120Zm60-500h600v-160H180v160Zm220 220h160v-160H400v160Zm0 220h160v-160H400v160ZM180-400h160v-160H180v160Zm440 0h160v-160H620v160ZM180-180h160v-160H180v160Zm440 0h160v-160H620v160Z\"/>\n",
              "  </svg>\n",
              "    </button>\n",
              "\n",
              "  <style>\n",
              "    .colab-df-container {\n",
              "      display:flex;\n",
              "      gap: 12px;\n",
              "    }\n",
              "\n",
              "    .colab-df-convert {\n",
              "      background-color: #E8F0FE;\n",
              "      border: none;\n",
              "      border-radius: 50%;\n",
              "      cursor: pointer;\n",
              "      display: none;\n",
              "      fill: #1967D2;\n",
              "      height: 32px;\n",
              "      padding: 0 0 0 0;\n",
              "      width: 32px;\n",
              "    }\n",
              "\n",
              "    .colab-df-convert:hover {\n",
              "      background-color: #E2EBFA;\n",
              "      box-shadow: 0px 1px 2px rgba(60, 64, 67, 0.3), 0px 1px 3px 1px rgba(60, 64, 67, 0.15);\n",
              "      fill: #174EA6;\n",
              "    }\n",
              "\n",
              "    .colab-df-buttons div {\n",
              "      margin-bottom: 4px;\n",
              "    }\n",
              "\n",
              "    [theme=dark] .colab-df-convert {\n",
              "      background-color: #3B4455;\n",
              "      fill: #D2E3FC;\n",
              "    }\n",
              "\n",
              "    [theme=dark] .colab-df-convert:hover {\n",
              "      background-color: #434B5C;\n",
              "      box-shadow: 0px 1px 3px 1px rgba(0, 0, 0, 0.15);\n",
              "      filter: drop-shadow(0px 1px 2px rgba(0, 0, 0, 0.3));\n",
              "      fill: #FFFFFF;\n",
              "    }\n",
              "  </style>\n",
              "\n",
              "    <script>\n",
              "      const buttonEl =\n",
              "        document.querySelector('#df-6dd7f0b1-b022-43c5-99e1-fb06dd1dc208 button.colab-df-convert');\n",
              "      buttonEl.style.display =\n",
              "        google.colab.kernel.accessAllowed ? 'block' : 'none';\n",
              "\n",
              "      async function convertToInteractive(key) {\n",
              "        const element = document.querySelector('#df-6dd7f0b1-b022-43c5-99e1-fb06dd1dc208');\n",
              "        const dataTable =\n",
              "          await google.colab.kernel.invokeFunction('convertToInteractive',\n",
              "                                                    [key], {});\n",
              "        if (!dataTable) return;\n",
              "\n",
              "        const docLinkHtml = 'Like what you see? Visit the ' +\n",
              "          '<a target=\"_blank\" href=https://colab.research.google.com/notebooks/data_table.ipynb>data table notebook</a>'\n",
              "          + ' to learn more about interactive tables.';\n",
              "        element.innerHTML = '';\n",
              "        dataTable['output_type'] = 'display_data';\n",
              "        await google.colab.output.renderOutput(dataTable, element);\n",
              "        const docLink = document.createElement('div');\n",
              "        docLink.innerHTML = docLinkHtml;\n",
              "        element.appendChild(docLink);\n",
              "      }\n",
              "    </script>\n",
              "  </div>\n",
              "\n",
              "\n",
              "<div id=\"df-dff51d84-f04f-4aaa-9e22-66593d887fd0\">\n",
              "  <button class=\"colab-df-quickchart\" onclick=\"quickchart('df-dff51d84-f04f-4aaa-9e22-66593d887fd0')\"\n",
              "            title=\"Suggest charts\"\n",
              "            style=\"display:none;\">\n",
              "\n",
              "<svg xmlns=\"http://www.w3.org/2000/svg\" height=\"24px\"viewBox=\"0 0 24 24\"\n",
              "     width=\"24px\">\n",
              "    <g>\n",
              "        <path d=\"M19 3H5c-1.1 0-2 .9-2 2v14c0 1.1.9 2 2 2h14c1.1 0 2-.9 2-2V5c0-1.1-.9-2-2-2zM9 17H7v-7h2v7zm4 0h-2V7h2v10zm4 0h-2v-4h2v4z\"/>\n",
              "    </g>\n",
              "</svg>\n",
              "  </button>\n",
              "\n",
              "<style>\n",
              "  .colab-df-quickchart {\n",
              "      --bg-color: #E8F0FE;\n",
              "      --fill-color: #1967D2;\n",
              "      --hover-bg-color: #E2EBFA;\n",
              "      --hover-fill-color: #174EA6;\n",
              "      --disabled-fill-color: #AAA;\n",
              "      --disabled-bg-color: #DDD;\n",
              "  }\n",
              "\n",
              "  [theme=dark] .colab-df-quickchart {\n",
              "      --bg-color: #3B4455;\n",
              "      --fill-color: #D2E3FC;\n",
              "      --hover-bg-color: #434B5C;\n",
              "      --hover-fill-color: #FFFFFF;\n",
              "      --disabled-bg-color: #3B4455;\n",
              "      --disabled-fill-color: #666;\n",
              "  }\n",
              "\n",
              "  .colab-df-quickchart {\n",
              "    background-color: var(--bg-color);\n",
              "    border: none;\n",
              "    border-radius: 50%;\n",
              "    cursor: pointer;\n",
              "    display: none;\n",
              "    fill: var(--fill-color);\n",
              "    height: 32px;\n",
              "    padding: 0;\n",
              "    width: 32px;\n",
              "  }\n",
              "\n",
              "  .colab-df-quickchart:hover {\n",
              "    background-color: var(--hover-bg-color);\n",
              "    box-shadow: 0 1px 2px rgba(60, 64, 67, 0.3), 0 1px 3px 1px rgba(60, 64, 67, 0.15);\n",
              "    fill: var(--button-hover-fill-color);\n",
              "  }\n",
              "\n",
              "  .colab-df-quickchart-complete:disabled,\n",
              "  .colab-df-quickchart-complete:disabled:hover {\n",
              "    background-color: var(--disabled-bg-color);\n",
              "    fill: var(--disabled-fill-color);\n",
              "    box-shadow: none;\n",
              "  }\n",
              "\n",
              "  .colab-df-spinner {\n",
              "    border: 2px solid var(--fill-color);\n",
              "    border-color: transparent;\n",
              "    border-bottom-color: var(--fill-color);\n",
              "    animation:\n",
              "      spin 1s steps(1) infinite;\n",
              "  }\n",
              "\n",
              "  @keyframes spin {\n",
              "    0% {\n",
              "      border-color: transparent;\n",
              "      border-bottom-color: var(--fill-color);\n",
              "      border-left-color: var(--fill-color);\n",
              "    }\n",
              "    20% {\n",
              "      border-color: transparent;\n",
              "      border-left-color: var(--fill-color);\n",
              "      border-top-color: var(--fill-color);\n",
              "    }\n",
              "    30% {\n",
              "      border-color: transparent;\n",
              "      border-left-color: var(--fill-color);\n",
              "      border-top-color: var(--fill-color);\n",
              "      border-right-color: var(--fill-color);\n",
              "    }\n",
              "    40% {\n",
              "      border-color: transparent;\n",
              "      border-right-color: var(--fill-color);\n",
              "      border-top-color: var(--fill-color);\n",
              "    }\n",
              "    60% {\n",
              "      border-color: transparent;\n",
              "      border-right-color: var(--fill-color);\n",
              "    }\n",
              "    80% {\n",
              "      border-color: transparent;\n",
              "      border-right-color: var(--fill-color);\n",
              "      border-bottom-color: var(--fill-color);\n",
              "    }\n",
              "    90% {\n",
              "      border-color: transparent;\n",
              "      border-bottom-color: var(--fill-color);\n",
              "    }\n",
              "  }\n",
              "</style>\n",
              "\n",
              "  <script>\n",
              "    async function quickchart(key) {\n",
              "      const quickchartButtonEl =\n",
              "        document.querySelector('#' + key + ' button');\n",
              "      quickchartButtonEl.disabled = true;  // To prevent multiple clicks.\n",
              "      quickchartButtonEl.classList.add('colab-df-spinner');\n",
              "      try {\n",
              "        const charts = await google.colab.kernel.invokeFunction(\n",
              "            'suggestCharts', [key], {});\n",
              "      } catch (error) {\n",
              "        console.error('Error during call to suggestCharts:', error);\n",
              "      }\n",
              "      quickchartButtonEl.classList.remove('colab-df-spinner');\n",
              "      quickchartButtonEl.classList.add('colab-df-quickchart-complete');\n",
              "    }\n",
              "    (() => {\n",
              "      let quickchartButtonEl =\n",
              "        document.querySelector('#df-dff51d84-f04f-4aaa-9e22-66593d887fd0 button');\n",
              "      quickchartButtonEl.style.display =\n",
              "        google.colab.kernel.accessAllowed ? 'block' : 'none';\n",
              "    })();\n",
              "  </script>\n",
              "</div>\n",
              "\n",
              "    </div>\n",
              "  </div>\n"
            ],
            "application/vnd.google.colaboratory.intrinsic+json": {
              "type": "dataframe",
              "variable_name": "train_df"
            }
          },
          "metadata": {},
          "execution_count": 10
        }
      ]
    },
    {
      "cell_type": "code",
      "source": [
        "# Select a random item to inspect\n",
        "random_instance = test_df.sample(1)\n",
        "\n",
        "# Print the contents of the 'text' column at index 0 (there is only 1 item)\n",
        "print('**** INPUT ****')\n",
        "print(random_instance['text'].iloc[0])\n",
        "\n",
        "# Print the contents of the 'label' column at index 0 (there is only 1 item)\n",
        "print('*** TARGET ****')\n",
        "print(random_instance['label'].iloc[0])"
      ],
      "metadata": {
        "id": "yeXgii2hRywZ",
        "colab": {
          "base_uri": "https://localhost:8080/"
        },
        "outputId": "df92e238-0c97-4f1c-95b9-40a925f26280"
      },
      "execution_count": 11,
      "outputs": [
        {
          "output_type": "stream",
          "name": "stdout",
          "text": [
            "**** INPUT ****\n",
            "En il diever linguistic general designeschan ils terms ‹romantica› e ‹romantic› oz per ordinari in stadi sentimental, magari er collià cun brama. Tipicas èn cumbinaziuns da pleds sco ‹muments romantics› u ‹ina cuntrada romantica›. Per ‹in’affera romantica› è er vegnì en diever il term ‹romanza› che designava oriundamain il gener litterar romanza. Er en quest pled sa manifestescha la transfurmaziun da l’idea romantica da l’epoca istorica en il mund dad oz.\n",
            "*** TARGET ****\n",
            "roh\n"
          ]
        }
      ]
    },
    {
      "cell_type": "markdown",
      "source": [
        "### 1.2 Data preparation\n",
        "\n",
        "Get a subset of the train/test data that includes 20 languages.\n",
        "Include English, German, Dutch, Danish, Swedish, Norwegian, and Japanese, plus 13 additional languages of your choice based on the items in the list of labels."
      ],
      "metadata": {
        "id": "lz23kAYi8htB"
      }
    },
    {
      "cell_type": "code",
      "source": [
        "language_codes = ['eng', 'deu', 'nld', 'dan', 'swe', 'nob', 'nno', 'jpn', 'tsn', 'xho', 'swa', 'rus', 'afr', 'ell', 'zh-yue', 'aym', 'fao', 'mai', 'hau', 'por']\n"
      ],
      "metadata": {
        "id": "6r6r932YbJko"
      },
      "execution_count": 32,
      "outputs": []
    },
    {
      "cell_type": "code",
      "source": [
        "len(language_codes)"
      ],
      "metadata": {
        "colab": {
          "base_uri": "https://localhost:8080/"
        },
        "id": "ECwr1D-ZisPQ",
        "outputId": "f83eb7d6-40f1-43cc-e4aa-e1c7beafd954"
      },
      "execution_count": 33,
      "outputs": [
        {
          "output_type": "execute_result",
          "data": {
            "text/plain": [
              "20"
            ]
          },
          "metadata": {},
          "execution_count": 33
        }
      ]
    },
    {
      "cell_type": "code",
      "source": [
        "# Get the unique labels in DataFrame\n",
        "unique_labels_in_df = train_df['label'].unique()\n",
        "\n",
        "# Check which codes are present and which are missing\n",
        "present_codes = [code for code in language_codes if code in unique_labels_in_df]\n",
        "missing_codes = [code for code in language_codes if code not in unique_labels_in_df]\n",
        "\n",
        "print(\"Present codes:\", present_codes)\n",
        "print(\"Missing codes:\", missing_codes)\n",
        "\n",
        "print(len(present_codes))"
      ],
      "metadata": {
        "colab": {
          "base_uri": "https://localhost:8080/"
        },
        "id": "vAoeiNrGW-tz",
        "outputId": "c63263c7-4c70-4061-e4c9-0c7c21881a84"
      },
      "execution_count": 35,
      "outputs": [
        {
          "output_type": "stream",
          "name": "stdout",
          "text": [
            "Present codes: ['eng', 'deu', 'nld', 'dan', 'swe', 'nob', 'nno', 'jpn', 'tsn', 'xho', 'swa', 'rus', 'afr', 'ell', 'zh-yue', 'aym', 'fao', 'mai', 'hau', 'por']\n",
            "Missing codes: []\n",
            "20\n"
          ]
        }
      ]
    },
    {
      "cell_type": "markdown",
      "source": [
        "There seem to be 2 variants of Norwegian in the dataset - *Bokmål* (nob) and *Nynorsk* (nno). Zulu is lacking."
      ],
      "metadata": {
        "id": "iFfQyxCfYFvS"
      }
    },
    {
      "cell_type": "code",
      "source": [
        "! head -n 5 x_test.txt"
      ],
      "metadata": {
        "colab": {
          "base_uri": "https://localhost:8080/"
        },
        "id": "YWMZgtH8_itK",
        "outputId": "02798977-fc82-4a12-8659-ddde35d92494"
      },
      "execution_count": 36,
      "outputs": [
        {
          "output_type": "stream",
          "name": "stdout",
          "text": [
            "Ne l fin de l seclo XIX l Japon era inda çconhecido i sótico pa l mundo oucidental. Cula antroduçon de la stética japonesa, particularmente na Sposiçon Ounibersal de 1900, an Paris, l Oucidente adquiriu un apetite ansaciable pul Japon i Heiarn se tornou mundialmente coincido pula perfundidade, ouriginalidade i sinceridade de ls sous cuntos. An sous radadeiros anhos, alguns críticos, cumo George Orwell, acusórun Heiarn de trasferir sou nacionalismo i fazer l Japon parecer mais sótico, mas, cumo l'home qu'oufereciu al Oucidente alguns de sous purmeiros lampeijos de l Japon pré-andustrial i de l Período Meiji, sou trabalho inda ye balioso até hoije.\n",
            "Schiedam is gelegen tussen Rotterdam en Vlaardingen, oorspronkelijk aan de Schie en later ook aan de Nieuwe Maas. Per 30 april 2017 had de gemeente 77.833 inwoners (bron: CBS). De stad is vooral bekend om haar jenever, de historische binnenstad met grachten, en de hoogste windmolens ter wereld.\n",
            "ГIурусаз батальонал, гьоркьор гIарадабиги лъун, ункъбокIон (каре) гьабун чIезарун руго. ТIаде гIарададул сачмаги гуллаги байдал, АхIмадханил бо тIурун буго. ГIумаханас цойгидал боязе тIаде кIанцIизе буюрухъ кьун буго. Гьезулги жо ккун гьечIо. Цинги живго ГIумахан кIанцIун вуго тушманасде тIаде («угъузилал рачун, дайтилал рачун, маххулъан бер баккун хунз цадахъ рачун»). Нахъе къалел ругел магIарулазда гьес гьарулеб букIун буго: «Нужеца яхI бахъе, гIолохъаби! Нилъеда данде гьал чIоларо», – ян.\n",
            "ರಾಜ್ಯಶಾಸ್ತ್ರದ ಪಿತಾಮಹೆ ಅರಿಸ್ಟಾಟಲ್. ರಾಜ್ಯಶಾಸ್ತ್ರದ ವೈಜ್ನಾನಿಕವಾದ್ ಅದ್ಯಾಯನ ಮಲ್ದಿನಾರ್ ಅರಿಸ್ಟಾಟಲ್. ಮೇರ್ 158 ರಾಷ್ಟ್ರದ ಸಂವಿಧಾನಲೆನ್ ಅರ್ಥ ಮಲ್ತೊನ್ದ್ the politics ಕೃತಿ ರಚನೆ ಮಲ್ದೆರ್. ಮೇರ್ ಕ್ರಿ.ಪೂ 387 ಗ್ರೀಕ್ ಸ್ಟಾಗಿರಡ್ ಜನಿಸಿಯೆರ್. ಮೆರೆನ ಅಮ್ಮೆರ್ ಮೆಸೆದೊನಿಯ ಅರಸೆರ್ನ ರಾಜವೈದ್ಯರ್ ಅದುದ್ ಇತ್ತೆರ್. ಎಲ್ಳಡೆ ಮೆರ್ ತತ್ವಶಾಸ್ತ್ರ,ಅರ್ಥಶಾಸ್ತ್ರ,ಸಂಗೀತ,ವಿಜ್ನಾನ,ಪೌರನೀತಿ,ಗಣಿತ ನೆಟ್ಟ್ ಪರಂಗತೆರ್ ಅದುದ್ ಇತ್ತೆರ್. ವಿದ್ಯಾಭ್ಯಾಸ ಮುಗಿ ಬೊಕ್ಕ ಪ್ಲೇಟೋ ಗ್ರೀಕ್ ತತ್ವಜ್ನಾನಿನೊಟ್ ಸೆರೊಂಡೆರ್. ಪ್ಲೇಟೋನ ಅಕಾಡೆಮಿಡ್ ಮಸ್ತ್ ವರ್ಷ ಬೇಲೆ ಮಲ್ತೆರ್. ಅಕಾಡೆಮಿಡ್ ನಿರ್ದೆಶೆಕೆರ್ನ ಹುದ್ದೆ ತಿಕ್ಕಂದೆ ಬೆಜರ್ ಅದುದ್ ಲೈಸಿಯಮ್ ಪನ್ಪಿನ ವಿಶ್ವವಿದ್ಯಾನಿಲಯ ಸ್ಥಾಪನೆ ಮಲ್ತೆರ್. ಬಿಕ್ಕ ಒಂತೆ ಸಮಯ ಅಲೆಗ್ಸಾಂಡರ್ ಚಕ್ರವರ್ತಿಗ್ ಗುರುವಾದ್ ಬೇಲೆ ಮಲ್ತೆರ್. ಮೇರ್ ಬರೆತಿನ ಪುಸ್ತಕ the politics,history of animals,metaphysics ಇತ್ಯಾದಿ.\n",
            "Halukum adalah kelenjar tiroid nang menonjol di gulu lalakian. Awan bibinian penonjolan nangini ada ai jua, tagal kada pati rancak. Lamun penampilan halukum dirasa pina talalu ganal, hal ini kawa diperbaiki awan operasi pelastik.\n"
          ]
        }
      ]
    },
    {
      "cell_type": "code",
      "source": [
        "! head -n 5 y_test.txt"
      ],
      "metadata": {
        "colab": {
          "base_uri": "https://localhost:8080/"
        },
        "id": "Q2D5oD_MAJ_8",
        "outputId": "84fd8026-0705-44cf-a7af-3bda15b9d480"
      },
      "execution_count": 37,
      "outputs": [
        {
          "output_type": "stream",
          "name": "stdout",
          "text": [
            "mwl\n",
            "nld\n",
            "ava\n",
            "tcy\n",
            "bjn\n"
          ]
        }
      ]
    },
    {
      "cell_type": "code",
      "source": [
        "# Create training subset\n",
        "subset_x_train = [x for x,y in zip(x_train, y_train) if y in language_codes]\n",
        "subset_y_train = [y for y in y_train if y in language_codes]\n",
        "\n",
        "# Create testing subset\n",
        "subset_x_test = [x for x,y in zip(x_test, y_test) if y in language_codes]\n",
        "subset_y_test = [y for y in y_test if y in language_codes]"
      ],
      "metadata": {
        "id": "aFjoRBZ5AfZL"
      },
      "execution_count": 38,
      "outputs": []
    },
    {
      "cell_type": "code",
      "source": [
        "# TODO: With the following code, we wanted to ENCODE the labels, however, our cat was walking on the keyboard and some of it got changed. Can you fix it?\n",
        "from sklearn.preprocessing import LabelEncoder\n",
        "\n",
        "# initialize and fit label encoder\n",
        "label_encoder = LabelEncoder().fit(subset_y_train)\n",
        "\n",
        "# transform training and test data\n",
        "encoded_y_train = label_encoder.transform(subset_y_train)\n",
        "encoded_y_test = label_encoder.transform(subset_y_test)\n",
        "\n",
        "label_encoder.classes_\n",
        "encoded_y_train\n",
        "encoded_y_test"
      ],
      "metadata": {
        "id": "wmNmkFzsU_LS",
        "colab": {
          "base_uri": "https://localhost:8080/"
        },
        "outputId": "2391f62b-4c16-4b57-e69d-b9fe6670d4ad"
      },
      "execution_count": 39,
      "outputs": [
        {
          "output_type": "execute_result",
          "data": {
            "text/plain": [
              "array([10,  8, 17, ...,  4,  2, 15])"
            ]
          },
          "metadata": {},
          "execution_count": 39
        }
      ]
    },
    {
      "cell_type": "markdown",
      "source": [
        "### 2.1 Build a LogisticRegression classifier\n",
        "\n",
        "To start with, we're going to build a very simple LogisticRegression classifier.\n",
        "Use a `Pipeline` to chain togther a `CountVectorizer` and a `LogisticRegression` estimator. Then perform a 5-fold cross validation and report the scores of this model as a baseline."
      ],
      "metadata": {
        "id": "okK-6q5CW6tK"
      }
    },
    {
      "cell_type": "code",
      "source": [
        "from sklearn.feature_extraction.text import CountVectorizer\n",
        "from sklearn.linear_model import LogisticRegression\n",
        "from sklearn.pipeline import Pipeline\n",
        "from sklearn.model_selection import cross_val_score\n",
        "\n",
        "# TODO: Define a very basic pipeline using a CountVectorizer and a LogisticRegression classifier\n",
        "\n"
      ],
      "metadata": {
        "id": "p4HlptuhMgBh"
      },
      "execution_count": 40,
      "outputs": []
    },
    {
      "cell_type": "code",
      "source": [
        "\n",
        "# Also added max_features parameter so that we don't end up possibly computing huge feature matrices for rare character combinations\n",
        "pipeline = Pipeline([\n",
        "    ('vectorizer', CountVectorizer(max_features=10000)),\n",
        "    ('classifier', LogisticRegression(max_iter=1000))\n",
        "])\n"
      ],
      "metadata": {
        "id": "keWDbULQbr6-"
      },
      "execution_count": 47,
      "outputs": []
    },
    {
      "cell_type": "code",
      "source": [
        "# TODO: Run a cross validation to estimate the model's expected performance\n",
        "\n",
        "# 5-fold cross-validation on our subset of 20 languages, using our subset_x_train and our encoded_y_train as parameters\n",
        "cv_scores = cross_val_score(pipeline, subset_x_train, encoded_y_train, cv=5, scoring='accuracy')\n",
        "\n",
        "# cross-validation scores and the mean score as a baseline\n",
        "print(\"Cross-validation scores: \", cv_scores)\n",
        "print(\"Mean cross-validation score: \", np.mean(cv_scores))"
      ],
      "metadata": {
        "id": "ETfxwBPLb8Ne",
        "colab": {
          "base_uri": "https://localhost:8080/"
        },
        "outputId": "6f27264b-e51d-4bf0-b2f7-3c9e7994171b"
      },
      "execution_count": 48,
      "outputs": [
        {
          "output_type": "stream",
          "name": "stdout",
          "text": [
            "Cross-validation scores:  [0.922  0.919  0.9295 0.9225 0.9225]\n",
            "Mean cross-validation score:  0.9231\n"
          ]
        }
      ]
    },
    {
      "cell_type": "markdown",
      "source": [
        "\n",
        "### 2.2 Feature Engineering\n",
        "\n",
        "So far, we've only considered the basic `CountVectorizer` at the word level to encode our input texts for our model.\n",
        "\n",
        "Your task is to apply some text preprocessing and engineer some more informative features.\n",
        "\n",
        "To do this, think about what other features might be relevant for determining the language of an input text.\n",
        "\n",
        "Define a custom set of feature extractors and implement the necessary preprocessing steps to extract these features from strings.\n",
        "\n",
        "Then initialise a processing pipeline that converts your input data into features that the model can take as input.\n",
        "\n",
        "☝ Note, this step can be as involved as your heart desires, there is only one minimal requirement: you must use something more than the base `CountVectorizer`. We recommend that you take a look at the [`BaseEstimator`](https://scikit-learn.org/stable/modules/generated/sklearn.base.BaseEstimator.html) and [`TransformerMixin`](https://scikit-learn.org/stable/modules/generated/sklearn.base.TransformerMixin.html#transformermixin) classes from `sk-learn`, as these can be helpful for defining custom transformers.\n"
      ],
      "metadata": {
        "id": "cm7auSCoQ2mn"
      }
    },
    {
      "cell_type": "code",
      "source": [
        "# TODO: Data cleaning/Feature engineering steps\n",
        "from sklearn.pipeline import FeatureUnion\n",
        "from sklearn.feature_extraction.text import TfidfVectorizer\n",
        "from sklearn.preprocessing import FunctionTransformer\n",
        "\n",
        "\n",
        "# Custom functions to calculate additional text features\n",
        "def word_length_stats(text):\n",
        "    word_lengths = [len(word) for word in text.split()]\n",
        "    return [np.mean(word_lengths), np.std(word_lengths), np.median(word_lengths)]\n",
        "\n",
        "# Function to count various punctuation and language-specific symbols\n",
        "def punctuation_and_symbol_count(text):\n",
        "    punctuation_counts = {\n",
        "        'comma': text.count(','),\n",
        "        'period': text.count('.'),\n",
        "        'question': text.count('?'),\n",
        "        'exclamation': text.count('!'),\n",
        "        'colon': text.count(':'),\n",
        "        'semicolon': text.count(';'),\n",
        "        'quote': text.count('\"'),\n",
        "        'parentheses': text.count('(') + text.count(')'),\n",
        "        # Language-specific symbols\n",
        "        'inverted_question': text.count('¿'),\n",
        "        'inverted_exclamation': text.count('¡'),\n",
        "        'french_quotes': text.count('«') + text.count('»'),\n",
        "        'german_quotes': text.count('„') + text.count('“')\n",
        "    }\n",
        "    return list(punctuation_counts.values())\n",
        "\n",
        "# Wrapping custom functions for use in the pipeline\n",
        "word_length_transformer = FunctionTransformer(lambda x: np.array([word_length_stats(doc) for doc in x]))\n",
        "punctuation_transformer = FunctionTransformer(lambda x: np.array([punctuation_and_symbol_count(doc) for doc in x]))\n",
        "\n",
        "# Building the pipeline with feature union\n",
        "pipeline = Pipeline([\n",
        "    ('features', FeatureUnion([\n",
        "        ('char_ngrams', CountVectorizer(analyzer='char', ngram_range=(1, 3), max_features=10000)),\n",
        "        ('word_ngrams', TfidfVectorizer(analyzer='word', ngram_range=(1, 2), max_features=5000)),\n",
        "        ('word_length_stats', word_length_transformer),\n",
        "        ('punctuation_count', punctuation_transformer)\n",
        "    ])),\n",
        "    ('classifier', LogisticRegression(max_iter=1000))\n",
        "])\n"
      ],
      "metadata": {
        "id": "e6IJia5ge13b"
      },
      "execution_count": 50,
      "outputs": []
    },
    {
      "cell_type": "markdown",
      "source": [
        "---\n",
        "\n",
        "### 3.1 Grid Search\n",
        "\n",
        "Use sklearn's GridSearchCV and experiment with the following hyperparameters:\n",
        "1. Penalty (Regularization)\n",
        "2. Solver\n",
        "3. Experiment with parameters of the Vectorizer (optional, but highly advised)\n",
        "\n",
        "☝ Note, don't overdo it at the beginning, since runtime might go up fast!\n",
        "\n",
        "Make sure you read through the [docs](https://scikit-learn.org/1.5/modules/generated/sklearn.linear_model.LogisticRegression.html#logisticregression) to get an understanding of what these parameters do.\n"
      ],
      "metadata": {
        "id": "uFVupMHhfJN9"
      }
    },
    {
      "cell_type": "code",
      "source": [
        "# TODO: GridSearchCV\n",
        "\n",
        "from sklearn.model_selection import GridSearchCV\n",
        "\n",
        "\n",
        "\n",
        "# Define the parameter grid\n",
        "param_grid = {\n",
        "    'classifier__penalty': ['l1', 'l2'],  # Add 'elasticnet' only if you set 'solver' to 'saga'\n",
        "    'classifier__solver': ['liblinear'],        # 'saga' supports elasticnet, 'liblinear' doesn't\n",
        "    'features__char_ngrams__ngram_range': [(1, 2), (1, 3)],  # Character n-grams\n",
        "    'features__word_ngrams__ngram_range': [(1, 1), (1, 2)],  # Word n-grams\n",
        "    'features__char_ngrams__max_features': [5000, 10000],     # Adjust to control dimensionality\n",
        "    'features__word_ngrams__max_features': [3000, 5000]\n",
        "}\n",
        "\n",
        "# Instantiate GridSearchCV with the pipeline and parameter grid\n",
        "grid_search = GridSearchCV(\n",
        "    pipeline,\n",
        "    param_grid=param_grid,\n",
        "    cv=3,  # Cross-validation splits, adjust as needed\n",
        "    scoring='accuracy',  # Or any other metric suitable for your task\n",
        "    verbose=1,\n",
        "    n_jobs=-1  # Use all processors to speed up\n",
        ")\n",
        "\n",
        "# Assuming you have your data ready in X and y\n",
        "grid_search.fit(subset_x_train, subset_y_train)\n",
        "\n",
        "# Display best parameters and score\n",
        "print(\"Best parameters found: \", grid_search.best_params_)\n",
        "print(\"Best cross-validation score: \", grid_search.best_score_)\n"
      ],
      "metadata": {
        "id": "M5s11IcneIU6",
        "colab": {
          "base_uri": "https://localhost:8080/"
        },
        "outputId": "0405ca39-04e5-4829-ee2a-e63249252b68"
      },
      "execution_count": 56,
      "outputs": [
        {
          "output_type": "stream",
          "name": "stdout",
          "text": [
            "Fitting 3 folds for each of 32 candidates, totalling 96 fits\n",
            "Best parameters found:  {'classifier__penalty': 'l2', 'classifier__solver': 'liblinear', 'features__char_ngrams__max_features': 10000, 'features__char_ngrams__ngram_range': (1, 3), 'features__word_ngrams__max_features': 3000, 'features__word_ngrams__ngram_range': (1, 1)}\n",
            "Best cross-validation score:  0.9751998295210446\n"
          ]
        }
      ]
    },
    {
      "cell_type": "markdown",
      "source": [
        "### 3.2 Best Model Selection\n",
        "\n",
        "After conducting our Grid Search, we should be able to identify our best model by inspecting the using the Grid Search result attribute `cv_results_`. (Hint: `cv_results_` returns a dictionay, so convert it to a Pandas Dataframe for easy inspection.)\n",
        "\n",
        "📝❓ What were the hyperparameter combinations for your best-performing model on the test set.\n",
        "\n",
        "📝❓ What is the advantage of grid search cross-validation?\n"
      ],
      "metadata": {
        "id": "TIxWwFC-Bcbe"
      }
    },
    {
      "cell_type": "code",
      "source": [
        "# TODO: Select the best model based on the GridSearch results\n",
        "# Access cv_results_ from the GridSearchCV instance\n",
        "cv_results = grid_search.cv_results_\n",
        "\n",
        "# Convert cv_results_ to a DataFrame\n",
        "results_df = pd.DataFrame(cv_results)\n"
      ],
      "metadata": {
        "id": "IH1q7v4heMP1"
      },
      "execution_count": 58,
      "outputs": []
    },
    {
      "cell_type": "code",
      "source": [
        "# Sort by the mean test score in descending order\n",
        "sorted_results = results_df.sort_values(by='mean_test_score', ascending=False)\n",
        "\n",
        "# Display the top 5 configurations\n",
        "print(sorted_results[['mean_test_score', 'std_test_score', 'params']].head())"
      ],
      "metadata": {
        "colab": {
          "base_uri": "https://localhost:8080/"
        },
        "id": "2H2HZMwzwraR",
        "outputId": "53ebb32b-5266-4a17-f38a-5e6b69b4cab0"
      },
      "execution_count": 59,
      "outputs": [
        {
          "output_type": "stream",
          "name": "stdout",
          "text": [
            "    mean_test_score  std_test_score  \\\n",
            "28           0.9752        0.001352   \n",
            "29           0.9752        0.001352   \n",
            "30           0.9752        0.001352   \n",
            "31           0.9751        0.001473   \n",
            "21           0.9746        0.001479   \n",
            "\n",
            "                                                                                                                                                                                                                                                     params  \n",
            "28  {'classifier__penalty': 'l2', 'classifier__solver': 'liblinear', 'features__char_ngrams__max_features': 10000, 'features__char_ngrams__ngram_range': (1, 3), 'features__word_ngrams__max_features': 3000, 'features__word_ngrams__ngram_range': (1, 1)}  \n",
            "29  {'classifier__penalty': 'l2', 'classifier__solver': 'liblinear', 'features__char_ngrams__max_features': 10000, 'features__char_ngrams__ngram_range': (1, 3), 'features__word_ngrams__max_features': 3000, 'features__word_ngrams__ngram_range': (1, 2)}  \n",
            "30  {'classifier__penalty': 'l2', 'classifier__solver': 'liblinear', 'features__char_ngrams__max_features': 10000, 'features__char_ngrams__ngram_range': (1, 3), 'features__word_ngrams__max_features': 5000, 'features__word_ngrams__ngram_range': (1, 1)}  \n",
            "31  {'classifier__penalty': 'l2', 'classifier__solver': 'liblinear', 'features__char_ngrams__max_features': 10000, 'features__char_ngrams__ngram_range': (1, 3), 'features__word_ngrams__max_features': 5000, 'features__word_ngrams__ngram_range': (1, 2)}  \n",
            "21   {'classifier__penalty': 'l2', 'classifier__solver': 'liblinear', 'features__char_ngrams__max_features': 5000, 'features__char_ngrams__ngram_range': (1, 3), 'features__word_ngrams__max_features': 3000, 'features__word_ngrams__ngram_range': (1, 2)}  \n"
          ]
        }
      ]
    },
    {
      "cell_type": "markdown",
      "source": [
        "## 3.3 Model Evaluation\n",
        "\n",
        "Once you have identified your best model, use it to predict the languages of texts in the test split.\n",
        "\n",
        "📝❓ According to standard metrics (e.g. Accurracy, Precision, Recall and F1), how well does your model perform on the heldout test set?\n"
      ],
      "metadata": {
        "id": "uqGuryr5Pduw"
      }
    },
    {
      "cell_type": "code",
      "source": [
        "# TODO: Evaluate the model by inspecting the predictions on the heldout test set\n",
        "# Retrieve the best model from the grid search\n",
        "best_model = grid_search.best_estimator_\n",
        "\n",
        "# Use the best model to predict languages on the test split\n",
        "predictions = best_model.predict(subset_x_test)\n",
        "\n",
        "from sklearn.metrics import accuracy_score, classification_report\n",
        "\n",
        "# Calculate accuracy\n",
        "accuracy = accuracy_score(subset_y_test, predictions)\n",
        "print(\"Test set accuracy: \", accuracy)\n",
        "\n",
        "# Detailed classification report\n",
        "print(classification_report(subset_y_test, predictions))\n"
      ],
      "metadata": {
        "id": "I96IIw5IeSm9",
        "colab": {
          "base_uri": "https://localhost:8080/"
        },
        "outputId": "05460449-1576-4b4a-f8a0-7ef87393cbb6"
      },
      "execution_count": 60,
      "outputs": [
        {
          "output_type": "stream",
          "name": "stdout",
          "text": [
            "Test set accuracy:  0.9807\n",
            "              precision    recall  f1-score   support\n",
            "\n",
            "         afr       0.99      0.99      0.99       500\n",
            "         aym       0.99      0.98      0.99       500\n",
            "         dan       0.96      0.96      0.96       500\n",
            "         deu       0.96      0.98      0.97       500\n",
            "         ell       1.00      0.99      0.99       500\n",
            "         eng       0.90      0.98      0.94       500\n",
            "         fao       1.00      1.00      1.00       500\n",
            "         hau       1.00      0.99      1.00       500\n",
            "         jpn       1.00      0.99      0.99       500\n",
            "         mai       1.00      0.98      0.99       500\n",
            "         nld       1.00      0.99      0.99       500\n",
            "         nno       0.94      0.97      0.96       500\n",
            "         nob       0.95      0.91      0.93       500\n",
            "         por       0.98      0.99      0.99       500\n",
            "         rus       0.99      1.00      1.00       500\n",
            "         swa       0.97      0.98      0.98       500\n",
            "         swe       1.00      1.00      1.00       500\n",
            "         tsn       1.00      0.99      0.99       500\n",
            "         xho       1.00      0.97      0.98       500\n",
            "      zh-yue       0.98      0.97      0.98       500\n",
            "\n",
            "    accuracy                           0.98     10000\n",
            "   macro avg       0.98      0.98      0.98     10000\n",
            "weighted avg       0.98      0.98      0.98     10000\n",
            "\n"
          ]
        }
      ]
    },
    {
      "cell_type": "markdown",
      "source": [
        "---\n",
        "\n",
        "### 4.1 Error Analysis\n",
        "\n",
        "Inspect your model's predictions using a confusion matrix and provide a summary of what you find in your report.\n",
        "\n",
        "📝❓ Where does your model do well and where does it fail?\n",
        "\n",
        "📝❓ What are some possible reasons for why it fails in these cases?"
      ],
      "metadata": {
        "id": "nY7yivhIc31J"
      }
    },
    {
      "cell_type": "code",
      "source": [
        "# TODO: Inspect the model's predcitions on the different classes"
      ],
      "metadata": {
        "id": "Pvw_JReaeY__"
      },
      "execution_count": null,
      "outputs": []
    },
    {
      "cell_type": "markdown",
      "source": [
        "---\n",
        "\n",
        "### 5.1 Interpretability Analysis\n",
        "\n",
        "Now that you have your best model, it's time to dive deep into understanding how the model makes predictions.\n",
        "\n",
        "It is important that we can explain and visualise our models to improve task performance. Explainable models help characterise model fairness, transparency, and outcomes.\n",
        "\n",
        "Let's try to understand what our best-performing logistic regression classification model has learned.\n",
        "\n",
        "Inspect the 20 most important features for the languages English, Swedish, Norwegian, and Japanese. Please make sure that the features are named and human-interpretable, not things like \"Feat_1\". (Hint: if you have used custom feature extractors in your pipeline, you may need to adapt these to make sure that the feature names are maintained.)\n",
        "\n",
        "📝❓ What is more important, extra features or the outputs of the vectorizer? Please discuss.\n",
        "\n",
        "We recommend using the [SHAP library](https://shap.readthedocs.io/en/latest/example_notebooks/tabular_examples/linear_models/Sentiment%20Analysis%20with%20Logistic%20Regression.html) as discussed in the tutorial. We've provided an example notebook for working with SHAP for multi-class classification in the course GitHub repo.\n",
        "\n",
        "☝ Note, if you prefer to use another interpretability tool, we will accept answers from any explanation library/method as long as the explanations for the model weights are provided in a structured/clear way.\n",
        "\n"
      ],
      "metadata": {
        "id": "nLVGsAHENSKw"
      }
    },
    {
      "cell_type": "code",
      "source": [
        "# To use shap, we first need to install it into the current environment\n",
        "!pip install --upgrade shap\n",
        "\n",
        "import shap"
      ],
      "metadata": {
        "colab": {
          "base_uri": "https://localhost:8080/"
        },
        "id": "QlXrrrBMR-2E",
        "outputId": "d93daee5-7153-4093-a6d7-a452efb0132e"
      },
      "execution_count": 62,
      "outputs": [
        {
          "output_type": "stream",
          "name": "stdout",
          "text": [
            "Collecting shap\n",
            "  Downloading shap-0.46.0-cp310-cp310-manylinux_2_12_x86_64.manylinux2010_x86_64.manylinux_2_17_x86_64.manylinux2014_x86_64.whl.metadata (24 kB)\n",
            "Requirement already satisfied: numpy in /usr/local/lib/python3.10/dist-packages (from shap) (1.26.4)\n",
            "Requirement already satisfied: scipy in /usr/local/lib/python3.10/dist-packages (from shap) (1.13.1)\n",
            "Requirement already satisfied: scikit-learn in /usr/local/lib/python3.10/dist-packages (from shap) (1.5.2)\n",
            "Requirement already satisfied: pandas in /usr/local/lib/python3.10/dist-packages (from shap) (2.2.2)\n",
            "Requirement already satisfied: tqdm>=4.27.0 in /usr/local/lib/python3.10/dist-packages (from shap) (4.66.5)\n",
            "Requirement already satisfied: packaging>20.9 in /usr/local/lib/python3.10/dist-packages (from shap) (24.1)\n",
            "Collecting slicer==0.0.8 (from shap)\n",
            "  Downloading slicer-0.0.8-py3-none-any.whl.metadata (4.0 kB)\n",
            "Requirement already satisfied: numba in /usr/local/lib/python3.10/dist-packages (from shap) (0.60.0)\n",
            "Requirement already satisfied: cloudpickle in /usr/local/lib/python3.10/dist-packages (from shap) (2.2.1)\n",
            "Requirement already satisfied: llvmlite<0.44,>=0.43.0dev0 in /usr/local/lib/python3.10/dist-packages (from numba->shap) (0.43.0)\n",
            "Requirement already satisfied: python-dateutil>=2.8.2 in /usr/local/lib/python3.10/dist-packages (from pandas->shap) (2.8.2)\n",
            "Requirement already satisfied: pytz>=2020.1 in /usr/local/lib/python3.10/dist-packages (from pandas->shap) (2024.2)\n",
            "Requirement already satisfied: tzdata>=2022.7 in /usr/local/lib/python3.10/dist-packages (from pandas->shap) (2024.2)\n",
            "Requirement already satisfied: joblib>=1.2.0 in /usr/local/lib/python3.10/dist-packages (from scikit-learn->shap) (1.4.2)\n",
            "Requirement already satisfied: threadpoolctl>=3.1.0 in /usr/local/lib/python3.10/dist-packages (from scikit-learn->shap) (3.5.0)\n",
            "Requirement already satisfied: six>=1.5 in /usr/local/lib/python3.10/dist-packages (from python-dateutil>=2.8.2->pandas->shap) (1.16.0)\n",
            "Downloading shap-0.46.0-cp310-cp310-manylinux_2_12_x86_64.manylinux2010_x86_64.manylinux_2_17_x86_64.manylinux2014_x86_64.whl (540 kB)\n",
            "\u001b[2K   \u001b[90m━━━━━━━━━━━━━━━━━━━━━━━━━━━━━━━━━━━━━━━━\u001b[0m \u001b[32m540.1/540.1 kB\u001b[0m \u001b[31m9.8 MB/s\u001b[0m eta \u001b[36m0:00:00\u001b[0m\n",
            "\u001b[?25hDownloading slicer-0.0.8-py3-none-any.whl (15 kB)\n",
            "Installing collected packages: slicer, shap\n",
            "Successfully installed shap-0.46.0 slicer-0.0.8\n"
          ]
        }
      ]
    },
    {
      "cell_type": "code",
      "source": [],
      "metadata": {
        "id": "yYiE9B7Nem1w"
      },
      "execution_count": 2,
      "outputs": []
    },
    {
      "cell_type": "markdown",
      "source": [
        "---\n",
        "\n",
        "### 6.1 Ablation Study\n",
        "\n",
        "Lastly, we want to conduct a small ablation study to investigate how well our model performs under different conditions.\n",
        "\n",
        "As a first step, choose the two languages for which the classifier worked best.\n",
        "\n",
        "Next, re-fit the best model six times, each time reducing the **length** of each instance in the training set. To do this, create a custom `TextReducer` class that you can include as a preprocessing step in your pipeline. The class should take a `max_len` argument as a hyperparameter that can be set to train the following models:\n",
        "\n",
        "- Model 1: `max_len = None` (i.e. no truncation!)\n",
        "- Model 2: `max_len = 500`\n",
        "- Model 3: `max_len = 250`\n",
        "- Model 4: `max_len = 150`\n",
        "- Model 5: `max_len = 100`\n",
        "- Model 6: `max_len = 50`\n",
        "\n",
        "Use average accuracy over the cross validation scores for each model to measure performance for each ablation setting.\n",
        "\n",
        "📝❓ How does the reduction of training data affect the performance of the classifier? And what could be some possible reasons for this?"
      ],
      "metadata": {
        "id": "MZX8MCdvgQOJ"
      }
    },
    {
      "cell_type": "code",
      "source": [
        "# TODO: Ablation study"
      ],
      "metadata": {
        "id": "jgegy9I_eBo9"
      },
      "execution_count": null,
      "outputs": []
    },
    {
      "cell_type": "markdown",
      "source": [
        "---\n",
        "\n",
        "📝❓ Write your lab report here addressing all questions in the notebook"
      ],
      "metadata": {
        "id": "FKEiEzVhc99J"
      }
    },
    {
      "cell_type": "markdown",
      "source": [
        "## Inspecting the data\n",
        "\n",
        "One of the challenges in dealing with this vast amount of languages is the use of different scripts, as well as the fact that in many languages (e.g. Japanese, Mandarin, Thai etc), words are not separated by spaces in text."
      ],
      "metadata": {
        "id": "jWwX_ADfdAO0"
      }
    }
  ],
  "metadata": {
    "kernelspec": {
      "display_name": "Python 3",
      "name": "python3"
    },
    "language_info": {
      "codemirror_mode": {
        "name": "ipython",
        "version": 3
      },
      "file_extension": ".py",
      "mimetype": "text/x-python",
      "name": "python",
      "nbconvert_exporter": "python",
      "pygments_lexer": "ipython3",
      "version": "3.7.11"
    },
    "orig_nbformat": 4,
    "colab": {
      "provenance": [],
      "gpuType": "T4",
      "include_colab_link": true
    }
  },
  "nbformat": 4,
  "nbformat_minor": 0
}